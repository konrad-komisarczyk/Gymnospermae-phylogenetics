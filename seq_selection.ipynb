{
 "cells": [
  {
   "cell_type": "code",
   "execution_count": 40,
   "metadata": {},
   "outputs": [],
   "source": [
    "from Bio import SeqIO\n",
    "from Bio import Seq\n",
    "import os"
   ]
  },
  {
   "cell_type": "markdown",
   "metadata": {},
   "source": [
    "# Data preparation"
   ]
  },
  {
   "cell_type": "code",
   "execution_count": 105,
   "metadata": {},
   "outputs": [],
   "source": [
    "# selecting and id change\n",
    "for i in range(1, 11):\n",
    "    records = list(SeqIO.parse(\"seqs/downloaded/\" + str(i) + \".fasta\", \"fasta\"))\n",
    "    records = records[0:286]\n",
    "    for j in range(0, len(records)):\n",
    "        records[j].id = str(i) + \"_\" + str(j)\n",
    "    SeqIO.write(records, \"seqs/selected/\" + str(i) + \".fasta\", \"fasta\")"
   ]
  },
  {
   "cell_type": "code",
   "execution_count": 106,
   "metadata": {},
   "outputs": [
    {
     "data": {
      "text/plain": [
       "2860"
      ]
     },
     "execution_count": 106,
     "metadata": {},
     "output_type": "execute_result"
    }
   ],
   "source": [
    "# merging\n",
    "merged = list()\n",
    "for i in range(1, 11):\n",
    "    records = list(SeqIO.parse(\"seqs/selected/\" + str(i) + \".fasta\", \"fasta\"))\n",
    "    merged = merged + records\n",
    "    \n",
    "SeqIO.write(merged, \"seqs/merged.fasta\", \"fasta\")"
   ]
  },
  {
   "cell_type": "code",
   "execution_count": 107,
   "metadata": {},
   "outputs": [
    {
     "data": {
      "text/plain": [
       "2860"
      ]
     },
     "execution_count": 107,
     "metadata": {},
     "output_type": "execute_result"
    }
   ],
   "source": [
    "len(merged)"
   ]
  },
  {
   "cell_type": "markdown",
   "metadata": {},
   "source": [
    "# CD-HIT"
   ]
  },
  {
   "cell_type": "markdown",
   "metadata": {},
   "source": [
    "### running algorithm"
   ]
  },
  {
   "cell_type": "code",
   "execution_count": 116,
   "metadata": {},
   "outputs": [
    {
     "data": {
      "text/plain": [
       "0"
      ]
     },
     "execution_count": 116,
     "metadata": {},
     "output_type": "execute_result"
    }
   ],
   "source": [
    "binary_path = \"../cd-hit-v4.8.1-2019-0228/cd-hit\" # path to cd-hit executable\n",
    "input_path = \"seqs/merged.fasta\"\n",
    "output_path = \"clustering_results/cd-hit/clusters\"\n",
    "threshold = 0.75\n",
    "wordsize = 5\n",
    "\n",
    "command = \"./\" + binary_path + \" -i \" + input_path + \" -o \" + output_path + \\\n",
    "\" -c \" + str(threshold) + \" -n \" + str(wordsize)\n",
    "\n",
    "os.system(command)"
   ]
  },
  {
   "cell_type": "markdown",
   "metadata": {},
   "source": [
    "### reading results"
   ]
  },
  {
   "cell_type": "code",
   "execution_count": 167,
   "metadata": {},
   "outputs": [],
   "source": [
    "class Cluster:\n",
    "    def __init__(self):\n",
    "        self.elems = list()\n",
    "        \n",
    "    def add(self, id1, id2):\n",
    "        self.elems.append((id1, id2))\n",
    "    \n",
    "    def ids1(self):\n",
    "        res = list()\n",
    "        for pair in self.elems:\n",
    "            res.append(pair[0])\n",
    "        return res\n",
    "    \n",
    "    def cleaned(self):\n",
    "        cluster2 = Cluster()\n",
    "        for elem in self.elems:\n",
    "            if elem[0] not in cluster2.ids1():\n",
    "                cluster2.add(elem[0], elem[1])\n",
    "        return cluster2\n",
    "    \n",
    "    def idsfull(self):\n",
    "        res = list()\n",
    "        for pair in self.elems:\n",
    "            res.append(str(pair[0]) + \"_\" + str(pair[1]))\n",
    "        return res\n",
    "    \n",
    "        "
   ]
  },
  {
   "cell_type": "code",
   "execution_count": 168,
   "metadata": {},
   "outputs": [],
   "source": [
    "clusters = list()\n",
    "with open(output_path + \".clstr\", 'r') as file:\n",
    "    for line in file:\n",
    "        if line.startswith(\">\"):\n",
    "            clusters.append(Cluster())\n",
    "        else:\n",
    "            id1 = line[(line.index(\">\") + 1):line.index(\"_\")]\n",
    "            id2 = line[(line.index(\"_\") + 1):line.index(\"...\")]\n",
    "            clusters[-1].add(int(id1), int(id2))"
   ]
  },
  {
   "cell_type": "code",
   "execution_count": 169,
   "metadata": {},
   "outputs": [
    {
     "name": "stdout",
     "output_type": "stream",
     "text": [
      "[1, 1, 1, 2, 2, 2, 3, 3, 3, 4, 5, 5, 5, 6, 6, 6, 6, 7, 7, 7, 8, 8, 8, 9, 9, 9, 10, 10, 10]\n",
      "[1, 2, 2, 3, 3, 3, 4, 5, 5, 5, 6, 6, 7, 7, 7, 8, 8, 8, 9, 9, 9, 10, 10, 10]\n",
      "[1, 2, 2, 2, 3, 3, 3, 4, 5, 5, 5, 6, 6, 6, 7, 7, 8, 8, 8, 9, 9, 9, 10, 10, 10]\n",
      "[1, 1, 2, 2, 2, 3, 3, 3, 3, 4, 5, 5, 5, 5, 6, 6, 6, 6, 6, 7, 7, 7, 7, 8, 8, 8, 8, 8, 8, 9, 9, 9, 10, 10, 10]\n",
      "[1, 1, 1, 1, 2, 2, 2, 3, 3, 3, 3, 3, 4, 5, 5, 5, 5, 6, 6, 6, 7, 7, 7, 7, 8, 8, 8, 8, 9, 9, 9, 10, 10, 10]\n",
      "[1, 1, 1, 1, 1, 1, 1, 1, 1, 1, 1, 1, 1, 1, 1, 1, 1, 1, 1, 1, 1, 1, 2, 2, 2, 2, 2, 2, 2, 2, 2, 3, 3, 3, 3, 3, 3, 3, 3, 3, 3, 3, 3, 3, 3, 4, 4, 5, 5, 5, 5, 5, 5, 5, 5, 5, 5, 6, 6, 6, 6, 6, 6, 7, 7, 7, 7, 7, 8, 8, 8, 8, 8, 8, 8, 8, 8, 8, 8, 8, 8, 8, 8, 8, 8, 8, 8, 8, 8, 8, 8, 9, 9, 9, 9, 9, 9, 9, 9, 10, 10, 10, 10, 10, 10, 10, 10, 10, 10, 10, 10, 10, 10, 10, 10, 10]\n",
      "[1, 1, 2, 2, 2, 3, 3, 3, 3, 4, 5, 5, 5, 6, 6, 6, 6, 7, 7, 7, 7, 8, 8, 8, 9, 9, 9, 10, 10, 10]\n",
      "[1, 1, 2, 2, 2, 3, 3, 3, 3, 4, 5, 5, 5, 5, 6, 6, 6, 6, 7, 7, 7, 7, 8, 8, 8, 9, 9, 9, 10, 10, 10]\n",
      "[1, 2, 2, 2, 3, 3, 3, 3, 3, 4, 5, 5, 5, 5, 6, 6, 6, 7, 7, 7, 8, 8, 8, 9, 9, 9, 10, 10, 10, 10]\n",
      "[1, 2, 2, 2, 3, 3, 3, 4, 5, 5, 5, 6, 6, 6, 7, 7, 7, 8, 8, 8, 9, 9, 9, 10, 10, 10]\n",
      "[1, 2, 2, 2, 3, 3, 3, 4, 5, 5, 5, 6, 6, 6, 7, 7, 7, 8, 8, 8, 8, 8, 8, 9, 9, 9, 10, 10, 10]\n",
      "[1, 2, 2, 2, 3, 3, 3, 4, 5, 5, 5, 6, 6, 6, 7, 7, 7, 8, 8, 8, 9, 9, 9, 10, 10, 10]\n",
      "[1, 2, 2, 2, 3, 3, 3, 4, 5, 5, 5, 6, 6, 7, 7, 7, 8, 8, 8, 9, 9, 9, 10, 10, 10, 10]\n",
      "[1, 1, 1, 1, 2, 2, 2, 2, 3, 3, 3, 3, 4, 5, 5, 5, 5, 6, 6, 6, 7, 7, 7, 7, 7, 7, 8, 8, 8, 9, 9, 9, 10, 10, 10]\n",
      "[1, 1, 2, 2, 2, 3, 3, 3, 4, 5, 5, 5, 5, 6, 6, 6, 7, 7, 7, 8, 8, 8, 9, 9, 9, 10, 10, 10]\n",
      "[1, 2, 2, 2, 3, 3, 3, 4, 5, 5, 5, 6, 6, 6, 7, 7, 7, 8, 8, 8, 9, 9, 9, 9, 10, 10, 10]\n",
      "[1, 2, 2, 2, 3, 3, 3, 4, 4, 4, 5, 5, 5, 6, 6, 6, 7, 7, 7, 8, 8, 8, 9, 9, 9, 10, 10, 10]\n",
      "[1, 1, 2, 2, 2, 3, 3, 3, 3, 4, 5, 5, 5, 5, 6, 6, 6, 7, 7, 7, 7, 8, 8, 8, 9, 9, 9, 10, 10, 10]\n",
      "[1, 1, 1, 2, 2, 2, 2, 3, 3, 3, 3, 3, 4, 5, 5, 5, 5, 5, 6, 6, 6, 6, 7, 7, 7, 7, 7, 8, 8, 8, 9, 9, 9, 10, 10, 10]\n",
      "[1, 2, 2, 2, 3, 3, 3, 4, 4, 5, 5, 5, 6, 6, 6, 7, 7, 7, 8, 8, 8, 9, 9, 9, 10]\n",
      "[1, 1, 1, 2, 2, 2, 3, 3, 3, 3, 3, 4, 5, 5, 5, 5, 5, 6, 6, 6, 6, 7, 7, 7, 7, 7, 8, 8, 8, 9, 9, 9, 10, 10, 10]\n",
      "[1, 2, 2, 2, 3, 3, 3, 4, 5, 5, 5, 6, 6, 6, 7, 7, 7, 8, 8, 8, 9, 9, 9, 10, 10, 10]\n",
      "[1, 1, 2, 2, 2, 3, 3, 3, 3, 3, 4, 5, 5, 5, 5, 5, 6, 6, 6, 6, 7, 7, 7, 8, 8, 8, 9, 9, 9, 10, 10, 10]\n",
      "[1, 2, 2, 2, 3, 3, 3, 4, 5, 5, 5, 6, 6, 6, 7, 7, 7, 8, 8, 8, 8, 9, 9, 9, 10, 10, 10]\n"
     ]
    }
   ],
   "source": [
    "clusters2 = list()\n",
    "for cluster in clusters:\n",
    "    if all(x in cluster.ids1() for x in range(1, 11)):\n",
    "        print(cluster.ids1())\n",
    "        clusters2.append(cluster)"
   ]
  },
  {
   "cell_type": "code",
   "execution_count": 172,
   "metadata": {},
   "outputs": [
    {
     "name": "stdout",
     "output_type": "stream",
     "text": [
      "['1_3', '2_13', '3_66', '4_63', '5_52', '6_7', '7_41', '8_28', '9_61', '10_60']\n",
      "['1_208', '2_100', '3_67', '4_62', '5_51', '6_95', '7_42', '8_29', '9_62', '10_61']\n",
      "['1_192', '2_114', '3_54', '4_86', '5_64', '6_1', '7_8', '8_43', '9_76', '10_75']\n",
      "['1_114', '2_72', '3_31', '4_83', '5_85', '6_13', '7_9', '8_78', '9_37', '10_18']\n",
      "['1_74', '2_92', '3_50', '4_42', '5_69', '6_80', '7_35', '8_17', '9_55', '10_54']\n",
      "['1_36', '2_16', '3_49', '4_3', '5_70', '6_17', '7_33', '8_2', '9_4', '10_52']\n",
      "['1_110', '2_103', '3_70', '4_59', '5_48', '6_37', '7_45', '8_32', '9_65', '10_64']\n",
      "['1_111', '2_104', '3_71', '4_58', '5_47', '6_4', '7_46', '8_33', '9_66', '10_65']\n",
      "['1_185', '2_121', '3_74', '4_48', '5_109', '6_119', '7_86', '8_23', '9_82', '10_81']\n",
      "['1_196', '2_111', '3_57', '4_89', '5_61', '6_21', '7_60', '8_40', '9_73', '10_72']\n",
      "['1_242', '2_68', '3_27', '4_79', '5_89', '6_3', '7_66', '8_82', '9_33', '10_22']\n",
      "['1_243', '2_67', '3_26', '4_78', '5_90', '6_12', '7_67', '8_83', '9_32', '10_23']\n",
      "['1_211', '2_98', '3_65', '4_64', '5_53', '6_93', '7_40', '8_27', '9_60', '10_59']\n",
      "['1_84', '2_27', '3_41', '4_32', '5_78', '6_71', '7_0', '8_70', '9_44', '10_43']\n",
      "['1_165', '2_48', '3_9', '4_53', '5_45', '6_11', '7_20', '8_48', '9_12', '10_9']\n",
      "['1_194', '2_112', '3_56', '4_88', '5_62', '6_22', '7_61', '8_41', '9_74', '10_73']\n",
      "['1_233', '2_79', '3_38', '4_2', '5_81', '6_39', '7_56', '8_67', '9_41', '10_40']\n",
      "['1_104', '2_85', '3_44', '4_35', '5_75', '6_32', '7_50', '8_73', '9_47', '10_46']\n",
      "['1_1', '2_11', '3_1', '4_33', '5_3', '6_8', '7_3', '8_71', '9_45', '10_44']\n",
      "['1_190', '2_116', '3_53', '4_44', '5_66', '6_46', '7_31', '8_45', '9_78', '10_77']\n",
      "['1_27', '2_84', '3_43', '4_34', '5_44', '6_47', '7_51', '8_72', '9_46', '10_45']\n",
      "['1_232', '2_80', '3_39', '4_30', '5_80', '6_40', '7_55', '8_68', '9_40', '10_41']\n",
      "['1_26', '2_71', '3_30', '4_82', '5_43', '6_48', '7_63', '8_79', '9_36', '10_19']\n",
      "['1_201', '2_106', '3_62', '4_94', '5_56', '6_6', '7_5', '8_35', '9_68', '10_67']\n"
     ]
    }
   ],
   "source": [
    "clusters3 = list()\n",
    "for cluster in clusters2:\n",
    "    filtered = cluster.cleaned()\n",
    "    print(filtered.idsfull())\n",
    "    clusters3.append(filtered)"
   ]
  },
  {
   "cell_type": "code",
   "execution_count": 173,
   "metadata": {},
   "outputs": [],
   "source": [
    "cseqs = list()\n",
    "for cluster in clusters3:\n",
    "    cseq = list()\n",
    "    for seq in merged:\n",
    "        if seq.id in cluster.idsfull():\n",
    "            cseq.append(seq)\n",
    "    cseqs.append(cseq)"
   ]
  },
  {
   "cell_type": "code",
   "execution_count": 174,
   "metadata": {},
   "outputs": [
    {
     "data": {
      "text/plain": [
       "[SeqRecord(seq=Seq('IVVEMDPIKTSFEKWAKPGHFSXTLXKGPNTTTWIWNLHADAHDFGSHTNDLEE...GVA'), id='1_3', name='1_3', description='1_3 sp|Q9MUK0.1|PSAA_CYCRE RecName: Full=Photosystem I P700 chlorophyll a apoprotein A1; AltName: Full=PSI-A; AltName: Full=PsaA', dbxrefs=[]),\n",
       " SeqRecord(seq=Seq('VKIVVERDPIKTSFEKWAKPGHFSRTLAKGPNTTTWIWNLHADAHDFDSHTNDL...AHY'), id='2_13', name='2_13', description='2_13 sp|Q9MUC0.1|PSAA_GINBI RecName: Full=Photosystem I P700 chlorophyll a apoprotein A1; AltName: Full=PSI-A; AltName: Full=PsaA', dbxrefs=[]),\n",
       " SeqRecord(seq=Seq('MIMRSPESEVKIMVERDPIKTSFEKWANPGHFSRTLAKGDPETTTWIWNLHADA...AVE'), id='3_66', name='3_66', description='3_66 QJQ26551.1 photosystem I P700 apoprotein A1 (chloroplast) [Ephedra sinica]', dbxrefs=[]),\n",
       " SeqRecord(seq=Seq('MIIRPPEQPEVKVVVERDPVKTSFEKWAKPGHFSKTLAKGPETTTWIWNLHADA...AVG'), id='4_63', name='4_63', description='4_63 BAK86529.1 photosystem I P700 apoprotein A1 (chloroplast) [Larix decidua]', dbxrefs=[]),\n",
       " SeqRecord(seq=Seq('MIIRSPESEVKIVVEKDLIRTSFEKWANPGHFSKTLSKGDPETTTWIWNLHADA...AVE'), id='5_52', name='5_52', description='5_52 ALK01127.1 photosystem I P700 apoprotein A1 (chloroplast) [Gnetum gnemon]', dbxrefs=[]),\n",
       " SeqRecord(seq=Seq('MIIRSPESEVKIVVERDPIKTSFEKWANPGHFSKTLSKTDPETTTWIWNLHADA...AVE'), id='6_7', name='6_7', description='6_7 sp|Q9MUK2.2|PSAA_WELMI RecName: Full=Photosystem I P700 chlorophyll a apoprotein A1; AltName: Full=PSI-A; AltName: Full=PsaA', dbxrefs=[]),\n",
       " SeqRecord(seq=Seq('MIIRSPEPEVKIVVERDPIKTSFEKWAKPGHFSKTLAKGPNTTTWIWNLHADAH...AVG'), id='7_41', name='7_41', description='7_41 BCK60756.1 photosystem I P700 apoprotein A1 (chloroplast) [Sciadopitys verticillata]', dbxrefs=[]),\n",
       " SeqRecord(seq=Seq('MTIRLPEEVKIIVERDPVKTSFEKWAKPGHFSKTLAKGPNTTTWIWNLHADAHD...AVG'), id='8_28', name='8_28', description='8_28 AXP34436.1 photosystem I P700 apoprotein A1 (plastid) [Juniperus communis]', dbxrefs=[]),\n",
       " SeqRecord(seq=Seq('MIIRSPEPEVKIVVERDPIKTSFEKWAKPGHFSKTLSKGPNTTTWIWNLHADAH...AVG'), id='9_61', name='9_61', description='9_61 ATL58969.1 photosystem I P700 apoprotein A1 (chloroplast) [Araucaria angustifolia]', dbxrefs=[]),\n",
       " SeqRecord(seq=Seq('MTIRSPETEVKIVVERDPIKTSFEKWAKPGHFSKTLTKGPNTTTWIWNLHADAH...AVG'), id='10_60', name='10_60', description='10_60 BCK60650.1 photosystem I P700 apoprotein A1 (chloroplast) [Nageia nagi]', dbxrefs=[])]"
      ]
     },
     "execution_count": 174,
     "metadata": {},
     "output_type": "execute_result"
    }
   ],
   "source": [
    "cseqs[0]"
   ]
  }
 ],
 "metadata": {
  "kernelspec": {
   "display_name": "Python 3",
   "language": "python",
   "name": "python3"
  },
  "language_info": {
   "codemirror_mode": {
    "name": "ipython",
    "version": 3
   },
   "file_extension": ".py",
   "mimetype": "text/x-python",
   "name": "python",
   "nbconvert_exporter": "python",
   "pygments_lexer": "ipython3",
   "version": "3.8.5"
  }
 },
 "nbformat": 4,
 "nbformat_minor": 4
}
